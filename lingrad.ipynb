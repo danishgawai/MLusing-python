{
  "nbformat": 4,
  "nbformat_minor": 0,
  "metadata": {
    "colab": {
      "name": "lingrad.ipynb",
      "provenance": [],
      "include_colab_link": true
    },
    "kernelspec": {
      "name": "python3",
      "display_name": "Python 3"
    }
  },
  "cells": [
    {
      "cell_type": "markdown",
      "metadata": {
        "id": "view-in-github",
        "colab_type": "text"
      },
      "source": [
        "<a href=\"https://colab.research.google.com/github/danishgawai/MLusing-python/blob/master/lingrad.ipynb\" target=\"_parent\"><img src=\"https://colab.research.google.com/assets/colab-badge.svg\" alt=\"Open In Colab\"/></a>"
      ]
    },
    {
      "cell_type": "code",
      "metadata": {
        "id": "rHpjZco6DMMh",
        "colab_type": "code",
        "colab": {}
      },
      "source": [
        "import numpy as np\n",
        "import matplotlib.pyplot as plt\n",
        "from sklearn.datasets import make_regression"
      ],
      "execution_count": 0,
      "outputs": []
    },
    {
      "cell_type": "code",
      "metadata": {
        "id": "M1AjfcqnDhIj",
        "colab_type": "code",
        "outputId": "c7b4843c-4301-4063-aa54-492d36018084",
        "colab": {
          "base_uri": "https://localhost:8080/",
          "height": 269
        }
      },
      "source": [
        "# using make regression we take some dummy inputs to output values\n",
        "\n",
        "X , y = make_regression(n_samples=100,\n",
        "                        n_features=1,\n",
        "                        noise=20)\n",
        "plt.scatter(X,y)\n",
        "plt.show()"
      ],
      "execution_count": 0,
      "outputs": [
        {
          "output_type": "display_data",
          "data": {
            "image/png": "[encoded data removed]",
            "text/plain": [
              "<Figure size 432x288 with 1 Axes>"
            ]
          },
          "metadata": {
            "tags": []
          }
        }
      ]
    },
    {
      "cell_type": "markdown",
      "metadata": {
        "id": "itY3K4y-SQ2h",
        "colab_type": "text"
      },
      "source": [
        "lets add a column of ones to our input matrix denoted as x0\n",
        "and let us call this matrix X which will be of size [100,2]"
      ]
    },
    {
      "cell_type": "code",
      "metadata": {
        "id": "3TUv2t-GSOHL",
        "colab_type": "code",
        "colab": {}
      },
      "source": [
        "x0 = np.ones([100,1])\n",
        "X = np.hstack((x0,X))"
      ],
      "execution_count": 0,
      "outputs": []
    },
    {
      "cell_type": "markdown",
      "metadata": {
        "id": "z31yFjTlTJLh",
        "colab_type": "text"
      },
      "source": [
        "now let us initialize the necessary values and parameters like learning rate alpha, iterations to be performed and the parameters theta."
      ]
    },
    {
      "cell_type": "code",
      "metadata": {
        "id": "wA2iF6_ByJik",
        "colab_type": "code",
        "colab": {}
      },
      "source": [
        "alpha = lr = 0.001\n",
        "m = len(X)\n",
        "epochs = 2000\n",
        "theta = np.zeros([2,1])     #This line initializes the value for thetas/parameters to zero\n",
        "y = np.reshape(y,[100,1])   #since output y is not in a perfect matrix form we will reshape y to a matrix of [100 x 1]"
      ],
      "execution_count": 0,
      "outputs": []
    },
    {
      "cell_type": "markdown",
      "metadata": {
        "id": "xGi_2zznUDcY",
        "colab_type": "text"
      },
      "source": [
        "Lets define Equation for cost function so that we can use it later to calculate the squared error for the given theta value in this program"
      ]
    },
    {
      "cell_type": "code",
      "metadata": {
        "id": "FS3zr1ZbUC3t",
        "colab_type": "code",
        "colab": {}
      },
      "source": [
        "def costfunc(theta,x,y):\n",
        "  temp = np.dot(x,theta)\n",
        "  return np.sum(np.power((temp - y),2)/(2*m))"
      ],
      "execution_count": 0,
      "outputs": []
    },
    {
      "cell_type": "code",
      "metadata": {
        "id": "oe53Ei4VwrWW",
        "colab_type": "code",
        "outputId": "b7ace4b5-d349-4380-ad6b-0a5d91be46a4",
        "colab": {
          "base_uri": "https://localhost:8080/",
          "height": 34
        }
      },
      "source": [
        "#For the theta values given lets calculate the cost funtion\n",
        "J = costfunc(theta,X,y)\n",
        "J        #now values for theta are 0"
      ],
      "execution_count": 0,
      "outputs": [
        {
          "output_type": "execute_result",
          "data": {
            "text/plain": [
              "1877.1752719949286"
            ]
          },
          "metadata": {
            "tags": []
          },
          "execution_count": 6
        }
      ]
    },
    {
      "cell_type": "code",
      "metadata": {
        "id": "s8sDakA9XDej",
        "colab_type": "code",
        "outputId": "bdaa6ad8-d246-4d5f-a386-7140d9903ad2",
        "colab": {
          "base_uri": "https://localhost:8080/",
          "height": 269
        }
      },
      "source": [
        "#also lets plot graph for predicted(with theta as zero) and actual value of y w.r.t X\n",
        "plt.scatter(X[:,1], y)\n",
        "plt.plot(X[:,1], np.dot(X, theta))\n",
        "plt.show()"
      ],
      "execution_count": 0,
      "outputs": [
        {
          "output_type": "display_data",
          "data": {
            "image/png": "[encoded data removed]",
            "text/plain": [
              "<Figure size 432x288 with 1 Axes>"
            ]
          },
          "metadata": {
            "tags": []
          }
        }
      ]
    },
    {
      "cell_type": "code",
      "metadata": {
        "id": "OOWqjDLbVBCH",
        "colab_type": "code",
        "outputId": "b060d7d1-3898-499b-bef2-b50e1713bf4e",
        "colab": {
          "base_uri": "https://localhost:8080/",
          "height": 68
        }
      },
      "source": [
        "# Now lets do gradient descent to minimize the costfunction J and store the values of J after each iterations \n",
        "#and store the value of theta after final iterations to calculte the squared error.\n",
        "\n",
        "J = np.empty([epochs,1])\n",
        "sqrer = iter(J)\n",
        "for i in range(epochs):\n",
        "  temp = np.dot(X,theta) - y\n",
        "  temp = np.dot(X.T,temp)\n",
        "  theta = theta - (temp)*(lr/m)\n",
        "  J[i] = costfunc(theta,X,y)\n",
        "print ('theta values are:',theta)\n",
        "print ('error after final iteration is :',J[epochs-1])"
      ],
      "execution_count": 0,
      "outputs": [
        {
          "output_type": "stream",
          "text": [
            "theta values are: [[-3.85042965]\n",
            " [49.64371819]]\n",
            "error after final iteration is : [266.78007096]\n"
          ],
          "name": "stdout"
        }
      ]
    },
    {
      "cell_type": "code",
      "metadata": {
        "id": "fOqkiokjacBF",
        "colab_type": "code",
        "colab": {}
      },
      "source": [
        "#Now again lets check the squared error cost function after gradient descent\n",
        "#J = costfunc(theta,X,y)\n",
        "#J "
      ],
      "execution_count": 0,
      "outputs": []
    },
    {
      "cell_type": "code",
      "metadata": {
        "id": "hom4VS67WGU-",
        "colab_type": "code",
        "outputId": "4c5ef5e4-2127-4936-ec6a-712fd394028b",
        "colab": {
          "base_uri": "https://localhost:8080/",
          "height": 269
        }
      },
      "source": [
        "#Lets us plot a graph for predicted and actual value of y w.r.t X\n",
        "#theta value are selected from gradient descent after the final iterations\n",
        "plt.scatter(X[:,1], y)\n",
        "plt.plot(X[:,1], np.dot(X, theta))\n",
        "plt.show()"
      ],
      "execution_count": 0,
      "outputs": [
        {
          "output_type": "display_data",
          "data": {
            "image/png": "[encoded data removed]",
            "text/plain": [
              "<Figure size 432x288 with 1 Axes>"
            ]
          },
          "metadata": {
            "tags": []
          }
        }
      ]
    },
    {
      "cell_type": "code",
      "metadata": {
        "id": "KQ_tdFT_VAxh",
        "colab_type": "code",
        "outputId": "f266f923-884a-4506-b5e9-8c6c155a02d7",
        "colab": {
          "base_uri": "https://localhost:8080/",
          "height": 269
        }
      },
      "source": [
        "#Let us also check cahnge in cost function J after every iteration\n",
        "plt.plot(J)\n",
        "plt.show()"
      ],
      "execution_count": 0,
      "outputs": [
        {
          "output_type": "display_data",
          "data": {
            "image/png": "[encoded data removed]",
            "text/plain": [
              "<Figure size 432x288 with 1 Axes>"
            ]
          },
          "metadata": {
            "tags": []
          }
        }
      ]
    },
    {
      "cell_type": "code",
      "metadata": {
        "id": "_BCQvOyZbjil",
        "colab_type": "code",
        "colab": {}
      },
      "source": [
        ""
      ],
      "execution_count": 0,
      "outputs": []
    }
  ]
}